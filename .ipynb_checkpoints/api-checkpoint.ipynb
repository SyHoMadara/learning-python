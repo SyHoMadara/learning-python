{
 "cells": [
  {
   "cell_type": "code",
   "execution_count": 2,
   "metadata": {},
   "outputs": [
    {
     "name": "stdout",
     "output_type": "stream",
     "text": [
      "{'BaseVolume': 114.70084736, 'OrderType': 'BUY', 'Price': 196298, 'Quantity': 0.0005843, 'TimeStamp': '2022-08-02 22:26:03', 'Total': 114.70084736, 'TradeID': '383735'}\n",
      "{'BaseVolume': 398.95409222, 'OrderType': 'BUY', 'Price': 196298, 'Quantity': 0.0020323, 'TimeStamp': '2022-08-02 22:26:03', 'Total': 398.95409222, 'TradeID': '383734'}\n",
      "{'BaseVolume': 199.79995632, 'OrderType': 'BUY', 'Price': 196298, 'Quantity': 0.0010178, 'TimeStamp': '2022-08-01 22:15:35', 'Total': 199.79995632, 'TradeID': '383697'}\n",
      "{'BaseVolume': 292.51150172, 'OrderType': 'BUY', 'Price': 196298, 'Quantity': 0.0014901, 'TimeStamp': '2022-08-01 21:06:12', 'Total': 292.51150172, 'TradeID': '383696'}\n",
      "{'BaseVolume': 148, 'OrderType': 'BUY', 'Price': 185000, 'Quantity': 0.0008, 'TimeStamp': '2022-08-01 21:06:12', 'Total': 148, 'TradeID': '383695'}\n",
      "{'BaseVolume': 221.2474, 'OrderType': 'SELL', 'Price': 140030, 'Quantity': 0.00158, 'TimeStamp': '2022-07-28 21:40:51', 'Total': 221.2474, 'TradeID': '383688'}\n",
      "{'BaseVolume': 74.99426039, 'OrderType': 'SELL', 'Price': 140027, 'Quantity': 0.0005355, 'TimeStamp': '2022-07-26 02:57:51', 'Total': 74.99426039, 'TradeID': '383679'}\n",
      "{'BaseVolume': 65.03133934, 'OrderType': 'SELL', 'Price': 140027, 'Quantity': 0.0004644, 'TimeStamp': '2022-07-26 02:57:51', 'Total': 65.03133934, 'TradeID': '383678'}\n",
      "{'BaseVolume': 132.36052175, 'OrderType': 'SELL', 'Price': 140027, 'Quantity': 0.0009452, 'TimeStamp': '2022-07-25 14:22:18', 'Total': 132.36052175, 'TradeID': '383640'}\n",
      "{'BaseVolume': 262.76766685, 'OrderType': 'SELL', 'Price': 140027, 'Quantity': 0.0018765, 'TimeStamp': '2022-07-23 15:46:30', 'Total': 262.76766685, 'TradeID': '383623'}\n",
      "{'BaseVolume': 255.51426825, 'OrderType': 'SELL', 'Price': 140027, 'Quantity': 0.0018247, 'TimeStamp': '2022-07-23 15:46:30', 'Total': 255.51426825, 'TradeID': '383622'}\n",
      "{'BaseVolume': 461.085144, 'OrderType': 'BUY', 'Price': 196300, 'Quantity': 0.0023488, 'TimeStamp': '2022-07-22 12:15:13', 'Total': 461.085144, 'TradeID': '383621'}\n",
      "{'BaseVolume': 39.479856, 'OrderType': 'BUY', 'Price': 196300, 'Quantity': 0.0002011, 'TimeStamp': '2022-07-22 12:15:13', 'Total': 39.479856, 'TradeID': '383620'}\n",
      "{'BaseVolume': 58.670144, 'OrderType': 'BUY', 'Price': 196300, 'Quantity': 0.0002988, 'TimeStamp': '2022-07-21 20:59:33', 'Total': 58.670144, 'TradeID': '383589'}\n",
      "{'BaseVolume': 326.91590168, 'OrderType': 'SELL', 'Price': 140026, 'Quantity': 0.0023346, 'TimeStamp': '2022-07-19 20:27:49', 'Total': 326.91590168, 'TradeID': '383586'}\n",
      "{'BaseVolume': 157.41582894, 'OrderType': 'SELL', 'Price': 140026, 'Quantity': 0.0011241, 'TimeStamp': '2022-07-19 20:18:07', 'Total': 157.41582894, 'TradeID': '383585'}\n",
      "{'BaseVolume': 470.48736, 'OrderType': 'SELL', 'Price': 140026, 'Quantity': 0.00336, 'TimeStamp': '2022-07-19 12:42:10', 'Total': 470.48736, 'TradeID': '383584'}\n",
      "{'BaseVolume': 70.013, 'OrderType': 'SELL', 'Price': 140026, 'Quantity': 0.0005, 'TimeStamp': '2022-07-19 12:42:10', 'Total': 70.013, 'TradeID': '383583'}\n",
      "{'BaseVolume': 58.7899161, 'OrderType': 'SELL', 'Price': 140026, 'Quantity': 0.0004198, 'TimeStamp': '2022-07-18 20:38:38', 'Total': 58.7899161, 'TradeID': '383582'}\n",
      "{'BaseVolume': 574.1066, 'OrderType': 'SELL', 'Price': 140026, 'Quantity': 0.0041, 'TimeStamp': '2022-07-18 20:10:10', 'Total': 574.1066, 'TradeID': '383581'}\n",
      "{'BaseVolume': 112.0208, 'OrderType': 'SELL', 'Price': 140026, 'Quantity': 0.0008, 'TimeStamp': '2022-07-18 19:20:20', 'Total': 112.0208, 'TradeID': '383580'}\n",
      "{'BaseVolume': 112.0208, 'OrderType': 'SELL', 'Price': 140026, 'Quantity': 0.0008, 'TimeStamp': '2022-07-18 16:32:41', 'Total': 112.0208, 'TradeID': '383579'}\n",
      "{'BaseVolume': 248.30670554, 'OrderType': 'SELL', 'Price': 140026, 'Quantity': 0.0017732, 'TimeStamp': '2022-07-18 03:59:35', 'Total': 248.30670554, 'TradeID': '383578'}\n",
      "{'BaseVolume': 65.97465016, 'OrderType': 'SELL', 'Price': 140026, 'Quantity': 0.0004711, 'TimeStamp': '2022-07-17 13:04:57', 'Total': 65.97465016, 'TradeID': '383577'}\n",
      "{'BaseVolume': 65.974179, 'OrderType': 'SELL', 'Price': 140025, 'Quantity': 0.0004711, 'TimeStamp': '2022-07-15 18:15:27', 'Total': 65.974179, 'TradeID': '383576'}\n",
      "{'BaseVolume': 2992.2159155, 'OrderType': 'SELL', 'Price': 130025, 'Quantity': 0.0230126, 'TimeStamp': '2022-07-14 00:20:44', 'Total': 2992.2159155, 'TradeID': '383575'}\n",
      "{'BaseVolume': 2354.744132, 'OrderType': 'BUY', 'Price': 196300, 'Quantity': 0.0119956, 'TimeStamp': '2022-07-13 16:05:58', 'Total': 2354.744132, 'TradeID': '383574'}\n",
      "{'BaseVolume': 167.36443789, 'OrderType': 'SELL', 'Price': 196388.73, 'Quantity': 0.0008522, 'TimeStamp': '2022-07-08 21:11:25', 'Total': 167.36443789, 'TradeID': '383573'}\n",
      "{'BaseVolume': 328.80030318, 'OrderType': 'SELL', 'Price': 196388.97, 'Quantity': 0.0016742, 'TimeStamp': '2022-07-08 21:11:25', 'Total': 328.80030318, 'TradeID': '383572'}\n",
      "{'BaseVolume': 288.72320632, 'OrderType': 'SELL', 'Price': 196388.97, 'Quantity': 0.0014701, 'TimeStamp': '2022-07-08 21:11:25', 'Total': 288.72320632, 'TradeID': '383571'}\n",
      "{'BaseVolume': 1.51652271, 'OrderType': 'SELL', 'Price': 196440.77, 'Quantity': 7.7e-06, 'TimeStamp': '2022-07-08 21:11:25', 'Total': 1.51652271, 'TradeID': '383570'}\n",
      "{'BaseVolume': 1.51804075, 'OrderType': 'BUY', 'Price': 196637.41, 'Quantity': 7.7e-06, 'TimeStamp': '2022-07-08 00:08:06', 'Total': 1.51804075, 'TradeID': '383569'}\n",
      "{'BaseVolume': 329.12943261, 'OrderType': 'BUY', 'Price': 196585.56, 'Quantity': 0.0016742, 'TimeStamp': '2022-07-08 00:08:06', 'Total': 329.12943261, 'TradeID': '383568'}\n",
      "{'BaseVolume': 289.01221854, 'OrderType': 'BUY', 'Price': 196585.56, 'Quantity': 0.0014701, 'TimeStamp': '2022-07-08 00:08:06', 'Total': 289.01221854, 'TradeID': '383567'}\n",
      "{'BaseVolume': 167.53196986, 'OrderType': 'BUY', 'Price': 196585.32, 'Quantity': 0.0008522, 'TimeStamp': '2022-07-08 00:08:06', 'Total': 167.53196986, 'TradeID': '383566'}\n",
      "{'BaseVolume': 69.4626931, 'OrderType': 'SELL', 'Price': 196388.73, 'Quantity': 0.0003537, 'TimeStamp': '2022-07-07 21:05:44', 'Total': 69.4626931, 'TradeID': '383565'}\n",
      "{'BaseVolume': 97.9017448, 'OrderType': 'SELL', 'Price': 196388.73, 'Quantity': 0.0004985, 'TimeStamp': '2022-07-07 20:53:44', 'Total': 97.9017448, 'TradeID': '383564'}\n",
      "{'BaseVolume': 328.80030318, 'OrderType': 'SELL', 'Price': 196388.97, 'Quantity': 0.0016742, 'TimeStamp': '2022-07-07 20:53:44', 'Total': 328.80030318, 'TradeID': '383563'}\n",
      "{'BaseVolume': 24.86284345, 'OrderType': 'SELL', 'Price': 196388.97, 'Quantity': 0.0001266, 'TimeStamp': '2022-07-07 20:53:44', 'Total': 24.86284345, 'TradeID': '383562'}\n",
      "{'BaseVolume': 263.86036287, 'OrderType': 'SELL', 'Price': 196388.97, 'Quantity': 0.0013435, 'TimeStamp': '2022-07-07 20:47:11', 'Total': 263.86036287, 'TradeID': '383561'}\n"
     ]
    }
   ],
   "source": [
    "import requests\n",
    "market_history_url = \"https://nova.bitcambio.com.br/api/v3/public/getmarkethistory\"\n",
    "markets_url = \"https://nova.bitcambio.com.br/api/v3/public/getmarkets\"\n",
    "request = requests.get(markets_url)\n",
    "for market in request.json()['result']:\n",
    "    if market['MarketAsset'] == \"BTC\":\n",
    "        market_name = market[\"MarketName\"]\n",
    "        break\n",
    "\n",
    "number_of_exchanges = 40\n",
    "request = requests.get(market_history_url,\n",
    "                       params={\n",
    "                           \"market\": market_name,\n",
    "                           \"count\": str(number_of_exchanges)\n",
    "                       })\n",
    "\n",
    "result = request.json()[\n",
    "print(*result,sep='\\n')"
   ]
  },
  {
   "cell_type": "code",
   "execution_count": null,
   "metadata": {
    "pycharm": {
     "name": "#%%\n"
    }
   },
   "outputs": [],
   "source": [
    "\n"
   ]
  }
 ],
 "metadata": {
  "kernelspec": {
   "display_name": "Python 3 (ipykernel)",
   "language": "python",
   "name": "python3"
  },
  "language_info": {
   "codemirror_mode": {
    "name": "ipython",
    "version": 3
   },
   "file_extension": ".py",
   "mimetype": "text/x-python",
   "name": "python",
   "nbconvert_exporter": "python",
   "pygments_lexer": "ipython3",
   "version": "3.9.11"
  }
 },
 "nbformat": 4,
 "nbformat_minor": 1
}
